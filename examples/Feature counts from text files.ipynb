{
 "cells": [
  {
   "cell_type": "code",
   "execution_count": 2,
   "metadata": {},
   "outputs": [],
   "source": [
    "# For development, use local paths.\n",
    "\n",
    "import sys\n",
    "sys.path.append(\"..\")"
   ]
  },
  {
   "cell_type": "code",
   "execution_count": 3,
   "metadata": {},
   "outputs": [],
   "source": [
    "# Load local\n",
    "%load_ext autoreload\n",
    "%autoreload 2"
   ]
  },
  {
   "cell_type": "code",
   "execution_count": 4,
   "metadata": {},
   "outputs": [],
   "source": [
    "import nonconsumptive as nc\n"
   ]
  },
  {
   "cell_type": "code",
   "execution_count": null,
   "metadata": {},
   "outputs": [],
   "source": []
  },
  {
   "cell_type": "markdown",
   "metadata": {},
   "source": [
    "# Feature counts from text files.\n",
    "\n",
    "This notebook creating a set of document-level feature count files akin to those distributed by the Hathi Trust, but from Project Gutenberg text files in the folder `{nonconsumptive_root}/sample_inputs/gutenberg/texts`.\n",
    "Metadata is read from a file called \"metadata.json\" and bound to files based on their filenames.\n",
    "\n",
    "Files are stored as parquet, which allows for fast processing."
   ]
  },
  {
   "cell_type": "markdown",
   "metadata": {},
   "source": [
    "# Create a corpus\n",
    "\n",
    "First, create a corpus. Every corpus has to be build from a strategy for retrieving texts, and a strategy for retrieving metadata.\n",
    "\n",
    "Ideally these will be disentangled. Some strategies might include:\n",
    "\n",
    "* metadata from { csv, yaml header block, TEI header blocks }\n",
    "* text from { set of files }\n",
    "* ids from { filename, filename plus directory, first column of mallet input,  etc. }\n",
    "\n",
    "The ids allow looking up the texts in the metadata.\n",
    "\n"
   ]
  },
  {
   "cell_type": "code",
   "execution_count": null,
   "metadata": {},
   "outputs": [],
   "source": []
  },
  {
   "cell_type": "code",
   "execution_count": 5,
   "metadata": {},
   "outputs": [],
   "source": [
    "import tempfile\n",
    "from pathlib import Path\n",
    "Path(tempfile.gettempdir() + \"/gutenberg4\").mkdir(exist_ok = True)\n",
    "\n",
    "gutenberg = nc.Corpus(\n",
    "    texts = \"../sample_inputs/gutenberg/texts\",\n",
    "    metadata = \"../sample_inputs/gutenberg/metadata.ndjson\",\n",
    "    dir = Path(tempfile.gettempdir() + \"/gutenberg4\"),\n",
    "    compression = \"gz\",\n",
    "    cache_set = {\"tokenization\"}\n",
    ")"
   ]
  },
  {
   "cell_type": "markdown",
   "metadata": {},
   "source": [
    "## Metadata\n",
    "\n",
    "The metadata is stored internally as a pyarrow table with some wrappers to ensure type integrity.\n",
    "\n",
    "Based on internal data and column types, this will leverage some Bookworm code to determine that \"date\"  or \"year\" are date type columns.\n",
    "It should also be able to discriminate between \"categorical\" types (or in library parlance, \"controlled vocabulary\" fields and free entry ones, perhaps with additional help from configuration files.\n"
   ]
  },
  {
   "cell_type": "code",
   "execution_count": 6,
   "metadata": {},
   "outputs": [
    {
     "name": "stdout",
     "output_type": "stream",
     "text": [
      "\n",
      "\n",
      " None \n",
      "\n",
      "\n"
     ]
    },
    {
     "data": {
      "text/html": [
       "<div>\n",
       "<style scoped>\n",
       "    .dataframe tbody tr th:only-of-type {\n",
       "        vertical-align: middle;\n",
       "    }\n",
       "\n",
       "    .dataframe tbody tr th {\n",
       "        vertical-align: top;\n",
       "    }\n",
       "\n",
       "    .dataframe thead th {\n",
       "        text-align: right;\n",
       "    }\n",
       "</style>\n",
       "<table border=\"1\" class=\"dataframe\">\n",
       "  <thead>\n",
       "    <tr style=\"text-align: right;\">\n",
       "      <th></th>\n",
       "      <th>htid</th>\n",
       "      <th>pubdate</th>\n",
       "      <th>title</th>\n",
       "      <th>author</th>\n",
       "      <th>@id</th>\n",
       "    </tr>\n",
       "  </thead>\n",
       "  <tbody>\n",
       "    <tr>\n",
       "      <th>0</th>\n",
       "      <td>dul1.ark+=13960=t3kw6ns1s</td>\n",
       "      <td>1851</td>\n",
       "      <td>Moby-Dick; or, The Whale</td>\n",
       "      <td>Melville, Herman</td>\n",
       "      <td>15</td>\n",
       "    </tr>\n",
       "    <tr>\n",
       "      <th>1</th>\n",
       "      <td>coo.31924014152700</td>\n",
       "      <td>1894</td>\n",
       "      <td>Far from the Madding Crowd</td>\n",
       "      <td>Hardy, Thomas</td>\n",
       "      <td>27</td>\n",
       "    </tr>\n",
       "    <tr>\n",
       "      <th>2</th>\n",
       "      <td>nyp.33433075744890</td>\n",
       "      <td>1905</td>\n",
       "      <td>The Scarlet Pimpernel</td>\n",
       "      <td>Orczy, Emmuska Orczy, Baroness</td>\n",
       "      <td>60</td>\n",
       "    </tr>\n",
       "    <tr>\n",
       "      <th>3</th>\n",
       "      <td>hvd.32044004480208</td>\n",
       "      <td>1917</td>\n",
       "      <td>A Princess of Mars</td>\n",
       "      <td>Burroughs, Edgar Rice</td>\n",
       "      <td>62</td>\n",
       "    </tr>\n",
       "  </tbody>\n",
       "</table>\n",
       "</div>"
      ],
      "text/plain": [
       "                        htid  pubdate                       title  \\\n",
       "0  dul1.ark+=13960=t3kw6ns1s     1851    Moby-Dick; or, The Whale   \n",
       "1         coo.31924014152700     1894  Far from the Madding Crowd   \n",
       "2         nyp.33433075744890     1905       The Scarlet Pimpernel   \n",
       "3         hvd.32044004480208     1917          A Princess of Mars   \n",
       "\n",
       "                           author @id  \n",
       "0                Melville, Herman  15  \n",
       "1                   Hardy, Thomas  27  \n",
       "2  Orczy, Emmuska Orczy, Baroness  60  \n",
       "3           Burroughs, Edgar Rice  62  "
      ]
     },
     "execution_count": 6,
     "metadata": {},
     "output_type": "execute_result"
    }
   ],
   "source": [
    "gutenberg.metadata.tb.to_pandas().head(4)"
   ]
  },
  {
   "cell_type": "markdown",
   "metadata": {},
   "source": [
    "Individual entries can be retrieved by their identifier. The identifier field should be called 'filename' or 'id,' or (ultimately) specified in the definition."
   ]
  },
  {
   "cell_type": "code",
   "execution_count": 7,
   "metadata": {},
   "outputs": [
    {
     "data": {
      "text/plain": [
       "{'htid': 'coo.31924014152700',\n",
       " 'pubdate': 1894,\n",
       " 'title': 'Far from the Madding Crowd',\n",
       " 'author': 'Hardy, Thomas',\n",
       " '@id': '27'}"
      ]
     },
     "execution_count": 7,
     "metadata": {},
     "output_type": "execute_result"
    }
   ],
   "source": [
    "gutenberg.metadata.get(\"27\")"
   ]
  },
  {
   "cell_type": "code",
   "execution_count": 8,
   "metadata": {},
   "outputs": [
    {
     "data": {
      "text/plain": [
       "<DOCUMENT> {\"htid\": \"coo.31924014152700\", \"pubdate\": 1894, \"title\": \"Far from the Madding Crowd\", \"author\": \"Hardy, Thomas\", \"@id\": \"27\"}"
      ]
     },
     "execution_count": 8,
     "metadata": {},
     "output_type": "execute_result"
    }
   ],
   "source": [
    "gutenberg.get_document(\"27\")"
   ]
  },
  {
   "cell_type": "markdown",
   "metadata": {},
   "source": [
    "Getting from the corpus as a whole returns a \"Document\" item. \n",
    "\n",
    "You can also access components of any stream (tokenization, token_counts, bigram_counts, etc.) directly through\n",
    "the get_id function. This is not especially fast because it has to look up locations, and generally if you're working on the full corpus you should just iterate through in order."
   ]
  },
  {
   "cell_type": "code",
   "execution_count": 9,
   "metadata": {},
   "outputs": [
    {
     "name": "stdout",
     "output_type": "stream",
     "text": [
      "Building cache\n"
     ]
    },
    {
     "data": {
      "text/plain": [
       "<pyarrow.lib.StringArray object at 0x11a116b40>\n",
       "[\n",
       "  \",\",\n",
       "  \"you\",\n",
       "  \"would\",\n",
       "  \"make\",\n",
       "  \"them\",\n",
       "  \"speak\",\n",
       "  \"like\",\n",
       "  \"great\",\n",
       "  \"whales\",\n",
       "  \".”\",\n",
       "  \"—\",\n",
       "  \"_Goldsmith\",\n",
       "  \"to\",\n",
       "  \"Johnson_\",\n",
       "  \".\",\n",
       "  \"“\",\n",
       "  \"In\",\n",
       "  \"the\",\n",
       "  \"afternoon\",\n",
       "  \"we\"\n",
       "]"
      ]
     },
     "execution_count": 9,
     "metadata": {},
     "output_type": "execute_result"
    }
   ],
   "source": [
    "gutenberg.tokenization.get_id(\"15\")['token'][3320:3340]"
   ]
  },
  {
   "cell_type": "markdown",
   "metadata": {},
   "source": [
    "# Documents\n",
    "\n",
    "The documents part of the corpus is structured as an iterator, because it's generally foolhardy to read in all the documents at once.\n",
    "\n",
    "Right now, the text of the document is read at iteration. Ultimately, the strategy would be to read only the parts of the document \n",
    "as needed from the corpus. (For example, if you request feature counts, it's fine if the raw document isn't there.)"
   ]
  },
  {
   "cell_type": "code",
   "execution_count": 10,
   "metadata": {},
   "outputs": [
    {
     "data": {
      "text/plain": [
       "<generator object Corpus.documents at 0x11a0952d0>"
      ]
     },
     "execution_count": 10,
     "metadata": {},
     "output_type": "execute_result"
    }
   ],
   "source": [
    "gutenberg.documents # Is an iterable."
   ]
  },
  {
   "cell_type": "markdown",
   "metadata": {},
   "source": [
    "## An individual document\n",
    "\n",
    "`random` and `first` are convenience methods to get a single document."
   ]
  },
  {
   "cell_type": "code",
   "execution_count": 11,
   "metadata": {},
   "outputs": [
    {
     "data": {
      "text/plain": [
       "<DOCUMENT> {\"htid\": \"dul1.ark+=13960=t3kw6ns1s\", \"pubdate\": 1851, \"title\": \"Moby-Dick; or, The Whale\", \"author\": \"Melville, Herman\", \"@id\": \"15\"}"
      ]
     },
     "execution_count": 11,
     "metadata": {},
     "output_type": "execute_result"
    }
   ],
   "source": [
    "one_book = gutenberg.first()\n",
    "one_book"
   ]
  },
  {
   "cell_type": "code",
   "execution_count": null,
   "metadata": {},
   "outputs": [],
   "source": []
  },
  {
   "cell_type": "code",
   "execution_count": 12,
   "metadata": {},
   "outputs": [
    {
     "name": "stdout",
     "output_type": "stream",
     "text": [
      "Building cache\n"
     ]
    },
    {
     "data": {
      "text/html": [
       "<div>\n",
       "<style scoped>\n",
       "    .dataframe tbody tr th:only-of-type {\n",
       "        vertical-align: middle;\n",
       "    }\n",
       "\n",
       "    .dataframe tbody tr th {\n",
       "        vertical-align: top;\n",
       "    }\n",
       "\n",
       "    .dataframe thead th {\n",
       "        text-align: right;\n",
       "    }\n",
       "</style>\n",
       "<table border=\"1\" class=\"dataframe\">\n",
       "  <thead>\n",
       "    <tr style=\"text-align: right;\">\n",
       "      <th></th>\n",
       "      <th>token</th>\n",
       "      <th>count</th>\n",
       "    </tr>\n",
       "  </thead>\n",
       "  <tbody>\n",
       "    <tr>\n",
       "      <th>758</th>\n",
       "      <td>There</td>\n",
       "      <td>150</td>\n",
       "    </tr>\n",
       "    <tr>\n",
       "      <th>131</th>\n",
       "      <td>A</td>\n",
       "      <td>155</td>\n",
       "    </tr>\n",
       "    <tr>\n",
       "      <th>241</th>\n",
       "      <td>Pequod</td>\n",
       "      <td>174</td>\n",
       "    </tr>\n",
       "    <tr>\n",
       "      <th>987</th>\n",
       "      <td>What</td>\n",
       "      <td>174</td>\n",
       "    </tr>\n",
       "    <tr>\n",
       "      <th>397</th>\n",
       "      <td>Starbuck</td>\n",
       "      <td>198</td>\n",
       "    </tr>\n",
       "    <tr>\n",
       "      <th>695</th>\n",
       "      <td>For</td>\n",
       "      <td>199</td>\n",
       "    </tr>\n",
       "    <tr>\n",
       "      <th>2274</th>\n",
       "      <td>Captain</td>\n",
       "      <td>205</td>\n",
       "    </tr>\n",
       "    <tr>\n",
       "      <th>470</th>\n",
       "      <td>He</td>\n",
       "      <td>229</td>\n",
       "    </tr>\n",
       "    <tr>\n",
       "      <th>286</th>\n",
       "      <td>In</td>\n",
       "      <td>239</td>\n",
       "    </tr>\n",
       "    <tr>\n",
       "      <th>399</th>\n",
       "      <td>Queequeg</td>\n",
       "      <td>252</td>\n",
       "    </tr>\n",
       "    <tr>\n",
       "      <th>179</th>\n",
       "      <td>Stubb</td>\n",
       "      <td>255</td>\n",
       "    </tr>\n",
       "    <tr>\n",
       "      <th>108</th>\n",
       "      <td>CHAPTER</td>\n",
       "      <td>284</td>\n",
       "    </tr>\n",
       "    <tr>\n",
       "      <th>214</th>\n",
       "      <td>Whale</td>\n",
       "      <td>301</td>\n",
       "    </tr>\n",
       "    <tr>\n",
       "      <th>538</th>\n",
       "      <td>It</td>\n",
       "      <td>312</td>\n",
       "    </tr>\n",
       "    <tr>\n",
       "      <th>739</th>\n",
       "      <td>And</td>\n",
       "      <td>369</td>\n",
       "    </tr>\n",
       "    <tr>\n",
       "      <th>174</th>\n",
       "      <td>Ahab</td>\n",
       "      <td>508</td>\n",
       "    </tr>\n",
       "    <tr>\n",
       "      <th>1</th>\n",
       "      <td>The</td>\n",
       "      <td>616</td>\n",
       "    </tr>\n",
       "    <tr>\n",
       "      <th>710</th>\n",
       "      <td>But</td>\n",
       "      <td>705</td>\n",
       "    </tr>\n",
       "    <tr>\n",
       "      <th>109</th>\n",
       "      <td>I</td>\n",
       "      <td>2125</td>\n",
       "    </tr>\n",
       "  </tbody>\n",
       "</table>\n",
       "</div>"
      ],
      "text/plain": [
       "         token  count\n",
       "758      There    150\n",
       "131          A    155\n",
       "241     Pequod    174\n",
       "987       What    174\n",
       "397   Starbuck    198\n",
       "695        For    199\n",
       "2274   Captain    205\n",
       "470         He    229\n",
       "286         In    239\n",
       "399   Queequeg    252\n",
       "179      Stubb    255\n",
       "108    CHAPTER    284\n",
       "214      Whale    301\n",
       "538         It    312\n",
       "739        And    369\n",
       "174       Ahab    508\n",
       "1          The    616\n",
       "710        But    705\n",
       "109          I   2125"
      ]
     },
     "execution_count": 12,
     "metadata": {},
     "output_type": "execute_result"
    }
   ],
   "source": [
    "counts = gutenberg.token_counts.get_id(one_book.metadata['@id'])\n",
    "# Capital lettered words among the 200 most common.\n",
    "counts.to_pandas().sort_values(\"count\")[-200:].query(\"token.str.match('[A-Z]')\")"
   ]
  },
  {
   "cell_type": "markdown",
   "metadata": {},
   "source": [
    "## Wordcounts\n",
    "\n",
    "Wordcounts are a basic element of nonconsumptive reading that can be used in analysis or stored. They are returned as a pyarrow RecordBatch."
   ]
  },
  {
   "cell_type": "code",
   "execution_count": 13,
   "metadata": {},
   "outputs": [
    {
     "data": {
      "text/html": [
       "<div>\n",
       "<style scoped>\n",
       "    .dataframe tbody tr th:only-of-type {\n",
       "        vertical-align: middle;\n",
       "    }\n",
       "\n",
       "    .dataframe tbody tr th {\n",
       "        vertical-align: top;\n",
       "    }\n",
       "\n",
       "    .dataframe thead th {\n",
       "        text-align: right;\n",
       "    }\n",
       "</style>\n",
       "<table border=\"1\" class=\"dataframe\">\n",
       "  <thead>\n",
       "    <tr style=\"text-align: right;\">\n",
       "      <th></th>\n",
       "      <th>token</th>\n",
       "      <th>count</th>\n",
       "    </tr>\n",
       "  </thead>\n",
       "  <tbody>\n",
       "    <tr>\n",
       "      <th>500</th>\n",
       "      <td>whale</td>\n",
       "      <td>914</td>\n",
       "    </tr>\n",
       "    <tr>\n",
       "      <th>598</th>\n",
       "      <td>whales</td>\n",
       "      <td>239</td>\n",
       "    </tr>\n",
       "    <tr>\n",
       "      <th>1413</th>\n",
       "      <td>whale_</td>\n",
       "      <td>3</td>\n",
       "    </tr>\n",
       "    <tr>\n",
       "      <th>1829</th>\n",
       "      <td>whalemen</td>\n",
       "      <td>70</td>\n",
       "    </tr>\n",
       "    <tr>\n",
       "      <th>2443</th>\n",
       "      <td>whaling</td>\n",
       "      <td>118</td>\n",
       "    </tr>\n",
       "  </tbody>\n",
       "</table>\n",
       "</div>"
      ],
      "text/plain": [
       "         token  count\n",
       "500      whale    914\n",
       "598     whales    239\n",
       "1413    whale_      3\n",
       "1829  whalemen     70\n",
       "2443   whaling    118"
      ]
     },
     "execution_count": 13,
     "metadata": {},
     "output_type": "execute_result"
    }
   ],
   "source": [
    "import pyarrow as pa\n",
    "pa.Table.from_batches([one_book.wordcounts]).to_pandas().query(\"token.str.match('whal')\").head(5)"
   ]
  },
  {
   "cell_type": "markdown",
   "metadata": {},
   "source": [
    "## Metadata on wordcounts\n",
    "\n",
    "The schema includes metadata. Figuring out how to dress this up into full json-ld  is a major goal."
   ]
  },
  {
   "cell_type": "code",
   "execution_count": 14,
   "metadata": {},
   "outputs": [
    {
     "data": {
      "text/plain": [
       "{b'nc_metadata': b'{\"htid\": \"dul1.ark+=13960=t3kw6ns1s\", \"pubdate\": 1851, \"title\": \"Moby-Dick; or, The Whale\", \"author\": \"Melville, Herman\", \"@id\": \"15\"}'}"
      ]
     },
     "execution_count": 14,
     "metadata": {},
     "output_type": "execute_result"
    }
   ],
   "source": [
    "one_book.wordcounts.schema.metadata"
   ]
  },
  {
   "cell_type": "code",
   "execution_count": 16,
   "metadata": {},
   "outputs": [],
   "source": [
    "for p in gutenberg.token_counts:\n",
    "    pass"
   ]
  },
  {
   "cell_type": "code",
   "execution_count": 18,
   "metadata": {},
   "outputs": [
    {
     "data": {
      "text/plain": [
       "pyarrow.RecordBatch\n",
       "token: string\n",
       "count: uint32"
      ]
     },
     "execution_count": 18,
     "metadata": {},
     "output_type": "execute_result"
    }
   ],
   "source": [
    "one_book.wordcounts\n",
    "\n"
   ]
  },
  {
   "cell_type": "markdown",
   "metadata": {},
   "source": [
    "## Iterating over feature counts\n",
    "\n",
    "We can now iterate over the token count files to get a list of--say--which books use words the most."
   ]
  },
  {
   "cell_type": "code",
   "execution_count": 17,
   "metadata": {},
   "outputs": [
    {
     "name": "stdout",
     "output_type": "stream",
     "text": [
      "<built-in function id>\n"
     ]
    },
    {
     "ename": "NameError",
     "evalue": "name 'meta' is not defined",
     "output_type": "error",
     "traceback": [
      "\u001b[0;31m---------------------------------------------------------------------------\u001b[0m",
      "\u001b[0;31mNameError\u001b[0m                                 Traceback (most recent call last)",
      "\u001b[0;32m<ipython-input-17-6e275230676a>\u001b[0m in \u001b[0;36m<module>\u001b[0;34m\u001b[0m\n\u001b[1;32m      5\u001b[0m     \u001b[0mwords\u001b[0m \u001b[0;34m=\u001b[0m \u001b[0mcounts\u001b[0m\u001b[0;34m.\u001b[0m\u001b[0mto_pandas\u001b[0m\u001b[0;34m(\u001b[0m\u001b[0;34m)\u001b[0m\u001b[0;34m[\u001b[0m\u001b[0;34m'count'\u001b[0m\u001b[0;34m]\u001b[0m\u001b[0;34m.\u001b[0m\u001b[0msum\u001b[0m\u001b[0;34m(\u001b[0m\u001b[0;34m)\u001b[0m\u001b[0;34m\u001b[0m\u001b[0;34m\u001b[0m\u001b[0m\n\u001b[1;32m      6\u001b[0m \u001b[0;34m\u001b[0m\u001b[0m\n\u001b[0;32m----> 7\u001b[0;31m     \u001b[0mtitle\u001b[0m \u001b[0;34m=\u001b[0m \u001b[0mmeta\u001b[0m\u001b[0;34m[\u001b[0m\u001b[0;34m'title'\u001b[0m\u001b[0;34m]\u001b[0m\u001b[0;34m\u001b[0m\u001b[0;34m\u001b[0m\u001b[0m\n\u001b[0m\u001b[1;32m      8\u001b[0m     \u001b[0mwhale_counts\u001b[0m \u001b[0;34m=\u001b[0m \u001b[0mcounts\u001b[0m\u001b[0;34m.\u001b[0m\u001b[0mto_pandas\u001b[0m\u001b[0;34m(\u001b[0m\u001b[0;34m)\u001b[0m\u001b[0;34m.\u001b[0m\u001b[0mquery\u001b[0m\u001b[0;34m(\u001b[0m\u001b[0;34m\"token=='whale'\"\u001b[0m\u001b[0;34m)\u001b[0m\u001b[0;34m[\u001b[0m\u001b[0;34m'count'\u001b[0m\u001b[0;34m]\u001b[0m\u001b[0;34m.\u001b[0m\u001b[0msum\u001b[0m\u001b[0;34m(\u001b[0m\u001b[0;34m)\u001b[0m\u001b[0;34m\u001b[0m\u001b[0;34m\u001b[0m\u001b[0m\n\u001b[1;32m      9\u001b[0m     \u001b[0mwhales\u001b[0m\u001b[0;34m.\u001b[0m\u001b[0mappend\u001b[0m\u001b[0;34m(\u001b[0m\u001b[0;34m(\u001b[0m\u001b[0mwhale_counts\u001b[0m\u001b[0;34m,\u001b[0m \u001b[0mtitle\u001b[0m\u001b[0;34m,\u001b[0m \u001b[0mwords\u001b[0m\u001b[0;34m)\u001b[0m\u001b[0;34m)\u001b[0m\u001b[0;34m\u001b[0m\u001b[0;34m\u001b[0m\u001b[0m\n",
      "\u001b[0;31mNameError\u001b[0m: name 'meta' is not defined"
     ]
    }
   ],
   "source": [
    "whales = []\n",
    "\n",
    "for batch in gutenberg.token_counts:\n",
    "    print(id)\n",
    "    words = counts.to_pandas()['count'].sum()\n",
    "    \n",
    "    title = meta['title']\n",
    "    whale_counts = counts.to_pandas().query(\"token=='whale'\")['count'].sum()\n",
    "    whales.append((whale_counts, title, words))\n",
    "\n",
    "whales.sort(reverse = True)\n",
    "whales[:10]"
   ]
  },
  {
   "cell_type": "markdown",
   "metadata": {},
   "source": [
    "# SRP embeddings\n",
    "\n",
    "SRP provides a way of grouping documents based on their wordcounts that is yet more\n",
    "nonconsumptive than wordcounts themselves. It uses random projection to scatter tokenized\n",
    "counts in a high-dimensional space according to vocabulary; books with similar vocabularies\n",
    "should be close in this space.\n",
    "\n",
    "In the version associated with `nonconsumptive`, I also include a further reduction in SRP size\n",
    "from the 1280-dimensional float vectors to a binary embedding that takes up 1/64 the size; \n",
    "these are suitable for making quick, rough comparisons between books.\n",
    "\n",
    "Here, we look at the books that are closest in the binary space (technically known \n",
    "as a \"Hamming\" space). Even with only 160 bytes of information per book and no language model,\n",
    "almost all of the most common books are those that have a shared author."
   ]
  },
  {
   "cell_type": "code",
   "execution_count": 18,
   "metadata": {},
   "outputs": [],
   "source": [
    "from nonconsumptive.extensions import embed_to_SRP"
   ]
  },
  {
   "cell_type": "code",
   "execution_count": 19,
   "metadata": {},
   "outputs": [
    {
     "name": "stdout",
     "output_type": "stream",
     "text": [
      "flushing ['15', '76', '64', '158', '170', '234']\n",
      "flushing ['95', '224', '78', '139', '144']\n",
      "flushing ['103', '172', '91', '176', '164']\n",
      "flushing ['62', '140', '27', '178', '105']\n",
      "flushing ['174', '142', '60', '121', '133']\n",
      "flushing ['72', '222', '84', '171', '161']\n",
      "flushing ['173', '126', '86', '94', '141']\n",
      "flushing ['177', '165', '215', '73', '179']\n"
     ]
    }
   ],
   "source": [
    "b = embed_to_SRP(gutenberg, flush_every = 5)"
   ]
  },
  {
   "cell_type": "code",
   "execution_count": 20,
   "metadata": {},
   "outputs": [
    {
     "data": {
      "text/plain": [
       "pyarrow.RecordBatch\n",
       "token: string\n",
       "count: uint32"
      ]
     },
     "execution_count": 20,
     "metadata": {},
     "output_type": "execute_result"
    }
   ],
   "source": [
    "gutenberg.token_counts.__iter__().__next__()"
   ]
  },
  {
   "cell_type": "code",
   "execution_count": 81,
   "metadata": {},
   "outputs": [],
   "source": [
    "srp_data = pa.feather.read_table(b)\n",
    "bits = srp_data['SRP_bits']\n",
    "ids = srp_data['id']\n"
   ]
  },
  {
   "cell_type": "code",
   "execution_count": 34,
   "metadata": {},
   "outputs": [],
   "source": [
    "import numpy as np\n",
    "bitwise = [np.frombuffer(b.as_buffer(), np.int32) for b in bits]"
   ]
  },
  {
   "cell_type": "code",
   "execution_count": 35,
   "metadata": {},
   "outputs": [],
   "source": [
    "POPCOUNT_TABLE16 = np.zeros(2**16, dtype=int) #has to be an array\n",
    "\n",
    "for index in range(len(POPCOUNT_TABLE16)):\n",
    "    POPCOUNT_TABLE16[index] = (index & 1) + POPCOUNT_TABLE16[index >> 1]\n",
    "\n",
    "def popcount32_table16(v):\n",
    "    return (POPCOUNT_TABLE16[ v        & 0xffff] +\n",
    "            POPCOUNT_TABLE16[(v >> 16) & 0xffff])\n",
    "\n",
    "def count1s(v):\n",
    "    return popcount32_table16(v).sum()"
   ]
  },
  {
   "cell_type": "code",
   "execution_count": 85,
   "metadata": {},
   "outputs": [],
   "source": [
    "counts = []\n",
    "for i in range(len(bitwise)-1):\n",
    "    for j in range(i+1, len(bitwise)):\n",
    "        d = count1s(bitwise[i] ^ bitwise[j])\n",
    "        counts.append((d, ids[i].as_py(), ids[j].as_py()))\n",
    "counts.sort()"
   ]
  },
  {
   "cell_type": "code",
   "execution_count": 86,
   "metadata": {},
   "outputs": [],
   "source": [
    "import pandas as pd\n",
    "dists = pd.DataFrame(counts, columns = ['hamming_dist', 'id1', 'id2'])\n"
   ]
  },
  {
   "cell_type": "code",
   "execution_count": 87,
   "metadata": {},
   "outputs": [],
   "source": [
    "id1 = srp_data['id'][id_1]\n",
    "id2 = srp_data['id'][id_2]"
   ]
  },
  {
   "cell_type": "code",
   "execution_count": 88,
   "metadata": {},
   "outputs": [],
   "source": [
    "metadata = gutenberg.metadata.tb.to_pandas()[['author', 'title', '@id']]"
   ]
  },
  {
   "cell_type": "code",
   "execution_count": 91,
   "metadata": {},
   "outputs": [
    {
     "data": {
      "text/html": [
       "<div>\n",
       "<style scoped>\n",
       "    .dataframe tbody tr th:only-of-type {\n",
       "        vertical-align: middle;\n",
       "    }\n",
       "\n",
       "    .dataframe tbody tr th {\n",
       "        vertical-align: top;\n",
       "    }\n",
       "\n",
       "    .dataframe thead th {\n",
       "        text-align: right;\n",
       "    }\n",
       "</style>\n",
       "<table border=\"1\" class=\"dataframe\">\n",
       "  <thead>\n",
       "    <tr style=\"text-align: right;\">\n",
       "      <th></th>\n",
       "      <th>author_x</th>\n",
       "      <th>title_x</th>\n",
       "      <th>@id_x</th>\n",
       "      <th>hamming_dist</th>\n",
       "      <th>id1</th>\n",
       "      <th>id2</th>\n",
       "      <th>author_y</th>\n",
       "      <th>title_y</th>\n",
       "      <th>@id_y</th>\n",
       "    </tr>\n",
       "  </thead>\n",
       "  <tbody>\n",
       "    <tr>\n",
       "      <th>805</th>\n",
       "      <td>Austen, Jane</td>\n",
       "      <td>Sense and Sensibility</td>\n",
       "      <td>161</td>\n",
       "      <td>198</td>\n",
       "      <td>161</td>\n",
       "      <td>141</td>\n",
       "      <td>Austen, Jane</td>\n",
       "      <td>Mansfield Park</td>\n",
       "      <td>141</td>\n",
       "    </tr>\n",
       "    <tr>\n",
       "      <th>577</th>\n",
       "      <td>Austen, Jane</td>\n",
       "      <td>Persuasion</td>\n",
       "      <td>105</td>\n",
       "      <td>207</td>\n",
       "      <td>105</td>\n",
       "      <td>161</td>\n",
       "      <td>Austen, Jane</td>\n",
       "      <td>Sense and Sensibility</td>\n",
       "      <td>161</td>\n",
       "    </tr>\n",
       "    <tr>\n",
       "      <th>796</th>\n",
       "      <td>Austen, Jane</td>\n",
       "      <td>Persuasion</td>\n",
       "      <td>105</td>\n",
       "      <td>207</td>\n",
       "      <td>105</td>\n",
       "      <td>141</td>\n",
       "      <td>Austen, Jane</td>\n",
       "      <td>Mansfield Park</td>\n",
       "      <td>141</td>\n",
       "    </tr>\n",
       "    <tr>\n",
       "      <th>490</th>\n",
       "      <td>Burroughs, Edgar Rice</td>\n",
       "      <td>The Gods of Mars</td>\n",
       "      <td>64</td>\n",
       "      <td>213</td>\n",
       "      <td>64</td>\n",
       "      <td>72</td>\n",
       "      <td>Burroughs, Edgar Rice</td>\n",
       "      <td>Thuvia, Maid of Mars</td>\n",
       "      <td>72</td>\n",
       "    </tr>\n",
       "    <tr>\n",
       "      <th>478</th>\n",
       "      <td>Austen, Jane</td>\n",
       "      <td>Emma</td>\n",
       "      <td>158</td>\n",
       "      <td>217</td>\n",
       "      <td>158</td>\n",
       "      <td>105</td>\n",
       "      <td>Austen, Jane</td>\n",
       "      <td>Persuasion</td>\n",
       "      <td>105</td>\n",
       "    </tr>\n",
       "    <tr>\n",
       "      <th>804</th>\n",
       "      <td>Austen, Jane</td>\n",
       "      <td>Emma</td>\n",
       "      <td>158</td>\n",
       "      <td>220</td>\n",
       "      <td>158</td>\n",
       "      <td>141</td>\n",
       "      <td>Austen, Jane</td>\n",
       "      <td>Mansfield Park</td>\n",
       "      <td>141</td>\n",
       "    </tr>\n",
       "    <tr>\n",
       "      <th>523</th>\n",
       "      <td>Austen, Jane</td>\n",
       "      <td>Persuasion</td>\n",
       "      <td>105</td>\n",
       "      <td>223</td>\n",
       "      <td>105</td>\n",
       "      <td>121</td>\n",
       "      <td>Austen, Jane</td>\n",
       "      <td>Northanger Abbey</td>\n",
       "      <td>121</td>\n",
       "    </tr>\n",
       "    <tr>\n",
       "      <th>578</th>\n",
       "      <td>Austen, Jane</td>\n",
       "      <td>Northanger Abbey</td>\n",
       "      <td>121</td>\n",
       "      <td>224</td>\n",
       "      <td>121</td>\n",
       "      <td>161</td>\n",
       "      <td>Austen, Jane</td>\n",
       "      <td>Sense and Sensibility</td>\n",
       "      <td>161</td>\n",
       "    </tr>\n",
       "    <tr>\n",
       "      <th>584</th>\n",
       "      <td>Austen, Jane</td>\n",
       "      <td>Emma</td>\n",
       "      <td>158</td>\n",
       "      <td>224</td>\n",
       "      <td>158</td>\n",
       "      <td>161</td>\n",
       "      <td>Austen, Jane</td>\n",
       "      <td>Sense and Sensibility</td>\n",
       "      <td>161</td>\n",
       "    </tr>\n",
       "    <tr>\n",
       "      <th>335</th>\n",
       "      <td>James, Henry</td>\n",
       "      <td>Confidence</td>\n",
       "      <td>178</td>\n",
       "      <td>224</td>\n",
       "      <td>178</td>\n",
       "      <td>177</td>\n",
       "      <td>James, Henry</td>\n",
       "      <td>The American</td>\n",
       "      <td>177</td>\n",
       "    </tr>\n",
       "    <tr>\n",
       "      <th>355</th>\n",
       "      <td>James, Henry</td>\n",
       "      <td>Roderick Hudson</td>\n",
       "      <td>176</td>\n",
       "      <td>225</td>\n",
       "      <td>176</td>\n",
       "      <td>178</td>\n",
       "      <td>James, Henry</td>\n",
       "      <td>Confidence</td>\n",
       "      <td>178</td>\n",
       "    </tr>\n",
       "    <tr>\n",
       "      <th>672</th>\n",
       "      <td>James, Henry</td>\n",
       "      <td>Confidence</td>\n",
       "      <td>178</td>\n",
       "      <td>230</td>\n",
       "      <td>178</td>\n",
       "      <td>179</td>\n",
       "      <td>James, Henry</td>\n",
       "      <td>The Europeans</td>\n",
       "      <td>179</td>\n",
       "    </tr>\n",
       "    <tr>\n",
       "      <th>169</th>\n",
       "      <td>Hardy, Thomas</td>\n",
       "      <td>A Pair of Blue Eyes</td>\n",
       "      <td>224</td>\n",
       "      <td>233</td>\n",
       "      <td>224</td>\n",
       "      <td>27</td>\n",
       "      <td>Hardy, Thomas</td>\n",
       "      <td>Far from the Madding Crowd</td>\n",
       "      <td>27</td>\n",
       "    </tr>\n",
       "    <tr>\n",
       "      <th>334</th>\n",
       "      <td>James, Henry</td>\n",
       "      <td>Roderick Hudson</td>\n",
       "      <td>176</td>\n",
       "      <td>235</td>\n",
       "      <td>176</td>\n",
       "      <td>177</td>\n",
       "      <td>James, Henry</td>\n",
       "      <td>The American</td>\n",
       "      <td>177</td>\n",
       "    </tr>\n",
       "    <tr>\n",
       "      <th>670</th>\n",
       "      <td>James, Henry</td>\n",
       "      <td>Roderick Hudson</td>\n",
       "      <td>176</td>\n",
       "      <td>235</td>\n",
       "      <td>176</td>\n",
       "      <td>179</td>\n",
       "      <td>James, Henry</td>\n",
       "      <td>The Europeans</td>\n",
       "      <td>179</td>\n",
       "    </tr>\n",
       "    <tr>\n",
       "      <th>671</th>\n",
       "      <td>James, Henry</td>\n",
       "      <td>The American</td>\n",
       "      <td>177</td>\n",
       "      <td>236</td>\n",
       "      <td>177</td>\n",
       "      <td>179</td>\n",
       "      <td>James, Henry</td>\n",
       "      <td>The Europeans</td>\n",
       "      <td>179</td>\n",
       "    </tr>\n",
       "    <tr>\n",
       "      <th>374</th>\n",
       "      <td>Twain, Mark</td>\n",
       "      <td>The $30,000 Bequest, and Other Stories</td>\n",
       "      <td>142</td>\n",
       "      <td>237</td>\n",
       "      <td>142</td>\n",
       "      <td>222</td>\n",
       "      <td>Maugham, W. Somerset (William Somerset)</td>\n",
       "      <td>The Moon and Sixpence</td>\n",
       "      <td>222</td>\n",
       "    </tr>\n",
       "    <tr>\n",
       "      <th>797</th>\n",
       "      <td>Austen, Jane</td>\n",
       "      <td>Northanger Abbey</td>\n",
       "      <td>121</td>\n",
       "      <td>238</td>\n",
       "      <td>121</td>\n",
       "      <td>141</td>\n",
       "      <td>Austen, Jane</td>\n",
       "      <td>Mansfield Park</td>\n",
       "      <td>141</td>\n",
       "    </tr>\n",
       "    <tr>\n",
       "      <th>846</th>\n",
       "      <td>Burroughs, Edgar Rice</td>\n",
       "      <td>The Gods of Mars</td>\n",
       "      <td>64</td>\n",
       "      <td>238</td>\n",
       "      <td>64</td>\n",
       "      <td>62</td>\n",
       "      <td>Burroughs, Edgar Rice</td>\n",
       "      <td>A Princess of Mars</td>\n",
       "      <td>62</td>\n",
       "    </tr>\n",
       "    <tr>\n",
       "      <th>675</th>\n",
       "      <td>Hardy, Thomas</td>\n",
       "      <td>A Pair of Blue Eyes</td>\n",
       "      <td>224</td>\n",
       "      <td>239</td>\n",
       "      <td>224</td>\n",
       "      <td>179</td>\n",
       "      <td>James, Henry</td>\n",
       "      <td>The Europeans</td>\n",
       "      <td>179</td>\n",
       "    </tr>\n",
       "  </tbody>\n",
       "</table>\n",
       "</div>"
      ],
      "text/plain": [
       "                  author_x                                 title_x @id_x  \\\n",
       "805           Austen, Jane                   Sense and Sensibility   161   \n",
       "577           Austen, Jane                              Persuasion   105   \n",
       "796           Austen, Jane                              Persuasion   105   \n",
       "490  Burroughs, Edgar Rice                        The Gods of Mars    64   \n",
       "478           Austen, Jane                                    Emma   158   \n",
       "804           Austen, Jane                                    Emma   158   \n",
       "523           Austen, Jane                              Persuasion   105   \n",
       "578           Austen, Jane                        Northanger Abbey   121   \n",
       "584           Austen, Jane                                    Emma   158   \n",
       "335           James, Henry                              Confidence   178   \n",
       "355           James, Henry                         Roderick Hudson   176   \n",
       "672           James, Henry                              Confidence   178   \n",
       "169          Hardy, Thomas                     A Pair of Blue Eyes   224   \n",
       "334           James, Henry                         Roderick Hudson   176   \n",
       "670           James, Henry                         Roderick Hudson   176   \n",
       "671           James, Henry                            The American   177   \n",
       "374            Twain, Mark  The $30,000 Bequest, and Other Stories   142   \n",
       "797           Austen, Jane                        Northanger Abbey   121   \n",
       "846  Burroughs, Edgar Rice                        The Gods of Mars    64   \n",
       "675          Hardy, Thomas                     A Pair of Blue Eyes   224   \n",
       "\n",
       "     hamming_dist  id1  id2                                 author_y  \\\n",
       "805           198  161  141                             Austen, Jane   \n",
       "577           207  105  161                             Austen, Jane   \n",
       "796           207  105  141                             Austen, Jane   \n",
       "490           213   64   72                    Burroughs, Edgar Rice   \n",
       "478           217  158  105                             Austen, Jane   \n",
       "804           220  158  141                             Austen, Jane   \n",
       "523           223  105  121                             Austen, Jane   \n",
       "578           224  121  161                             Austen, Jane   \n",
       "584           224  158  161                             Austen, Jane   \n",
       "335           224  178  177                             James, Henry   \n",
       "355           225  176  178                             James, Henry   \n",
       "672           230  178  179                             James, Henry   \n",
       "169           233  224   27                            Hardy, Thomas   \n",
       "334           235  176  177                             James, Henry   \n",
       "670           235  176  179                             James, Henry   \n",
       "671           236  177  179                             James, Henry   \n",
       "374           237  142  222  Maugham, W. Somerset (William Somerset)   \n",
       "797           238  121  141                             Austen, Jane   \n",
       "846           238   64   62                    Burroughs, Edgar Rice   \n",
       "675           239  224  179                             James, Henry   \n",
       "\n",
       "                        title_y @id_y  \n",
       "805              Mansfield Park   141  \n",
       "577       Sense and Sensibility   161  \n",
       "796              Mansfield Park   141  \n",
       "490        Thuvia, Maid of Mars    72  \n",
       "478                  Persuasion   105  \n",
       "804              Mansfield Park   141  \n",
       "523            Northanger Abbey   121  \n",
       "578       Sense and Sensibility   161  \n",
       "584       Sense and Sensibility   161  \n",
       "335                The American   177  \n",
       "355                  Confidence   178  \n",
       "672               The Europeans   179  \n",
       "169  Far from the Madding Crowd    27  \n",
       "334                The American   177  \n",
       "670               The Europeans   179  \n",
       "671               The Europeans   179  \n",
       "374       The Moon and Sixpence   222  \n",
       "797              Mansfield Park   141  \n",
       "846          A Princess of Mars    62  \n",
       "675               The Europeans   179  "
      ]
     },
     "execution_count": 91,
     "metadata": {},
     "output_type": "execute_result"
    }
   ],
   "source": [
    "joined = metadata.merge(dists, left_on = '@id', right_on = 'id1').merge(metadata, right_on = '@id', left_on = 'id2')\n",
    "joined.sort_values(\"hamming_dist\").head(20)"
   ]
  },
  {
   "cell_type": "code",
   "execution_count": null,
   "metadata": {},
   "outputs": [],
   "source": []
  }
 ],
 "metadata": {
  "kernelspec": {
   "display_name": "Python 3",
   "language": "python",
   "name": "python3"
  },
  "language_info": {
   "codemirror_mode": {
    "name": "ipython",
    "version": 3
   },
   "file_extension": ".py",
   "mimetype": "text/x-python",
   "name": "python",
   "nbconvert_exporter": "python",
   "pygments_lexer": "ipython3",
   "version": "3.7.7"
  }
 },
 "nbformat": 4,
 "nbformat_minor": 5
}
